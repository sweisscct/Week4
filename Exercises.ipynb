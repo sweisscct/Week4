{
 "cells": [
  {
   "cell_type": "code",
   "execution_count": 24,
   "id": "78832e1a",
   "metadata": {},
   "outputs": [
    {
     "name": "stdout",
     "output_type": "stream",
     "text": [
      "ABC\n",
      "Zap\n",
      "ABC\n",
      "ABC\n"
     ]
    }
   ],
   "source": [
    "def fred():\n",
    "    print(\"Zap\")\n",
    "    jane()\n",
    "def jane():\n",
    "     print(\"ABC\")\n",
    "        \n",
    "jane()\n",
    "fred()\n",
    "jane()\n",
    "\n",
    "def "
   ]
  },
  {
   "cell_type": "markdown",
   "id": "87ebc3c4",
   "metadata": {},
   "source": [
    "## Exercise 6: \n",
    "Rewrite your pay computation with time-and-a-half for over\n",
    "time and create a function called computepay which takes two parameters\n",
    " (hours and rate)."
   ]
  },
  {
   "cell_type": "code",
   "execution_count": 2,
   "id": "7508add5",
   "metadata": {},
   "outputs": [],
   "source": [
    "def computepay(hours, rate):\n",
    "    hours = float(hours)\n",
    "    rate = float(rate)\n",
    "\n",
    "    if hours > 40:\n",
    "        pay = (hours-40)*1.5*rate + 40*rate\n",
    "    else:\n",
    "        pay = hours*rate\n",
    "\n",
    "    print(f\"Your pay is : €{pay}\")"
   ]
  },
  {
   "cell_type": "code",
   "execution_count": 3,
   "id": "b2e5a552",
   "metadata": {},
   "outputs": [
    {
     "name": "stdout",
     "output_type": "stream",
     "text": [
      "Your pay is : €475.0\n"
     ]
    }
   ],
   "source": [
    "computepay(45, 10)"
   ]
  },
  {
   "cell_type": "code",
   "execution_count": 4,
   "id": "9deb8f4a",
   "metadata": {},
   "outputs": [
    {
     "name": "stdout",
     "output_type": "stream",
     "text": [
      "Your pay is : €475.0\n"
     ]
    }
   ],
   "source": [
    "computepay(rate=10, hours=45)"
   ]
  },
  {
   "cell_type": "code",
   "execution_count": 5,
   "id": "8b970421",
   "metadata": {},
   "outputs": [
    {
     "name": "stdout",
     "output_type": "stream",
     "text": [
      "Your pay is : €475.0\n"
     ]
    }
   ],
   "source": [
    "computepay(hours=45, rate=10)"
   ]
  },
  {
   "cell_type": "code",
   "execution_count": 6,
   "id": "1398c19b",
   "metadata": {},
   "outputs": [
    {
     "ename": "SyntaxError",
     "evalue": "positional argument follows keyword argument (3798855838.py, line 1)",
     "output_type": "error",
     "traceback": [
      "\u001b[1;36m  Cell \u001b[1;32mIn[6], line 1\u001b[1;36m\u001b[0m\n\u001b[1;33m    computepay(hours=45, 10)\u001b[0m\n\u001b[1;37m                           ^\u001b[0m\n\u001b[1;31mSyntaxError\u001b[0m\u001b[1;31m:\u001b[0m positional argument follows keyword argument\n"
     ]
    }
   ],
   "source": [
    "#computepay(hours=45, 10)"
   ]
  },
  {
   "cell_type": "code",
   "execution_count": 7,
   "id": "c5953e65",
   "metadata": {},
   "outputs": [
    {
     "name": "stdout",
     "output_type": "stream",
     "text": [
      "Your pay is : €475.0\n"
     ]
    }
   ],
   "source": [
    "computepay(45, rate=10)"
   ]
  },
  {
   "cell_type": "markdown",
   "id": "e2e1d01e",
   "metadata": {},
   "source": [
    "##  Exercise 7: \n",
    "Rewrite the grade program from the previous chapter using\n",
    " a function called computegrade that takes a score as its parameter and\n",
    " returns a grade as a string."
   ]
  },
  {
   "cell_type": "code",
   "execution_count": 12,
   "id": "6ab81ebd",
   "metadata": {},
   "outputs": [],
   "source": [
    "def computegrade(score):\n",
    "    score = float(score)\n",
    "\n",
    "    if score > 1:\n",
    "        print(\"Score is too big - it must be between 0 and 1 inclusive\")\n",
    "    elif score < 0:\n",
    "        print(\"Score is too small - it must be between 0 and 1 inclusive\")\n",
    "    elif score >= 0.9:\n",
    "        return \"A\"\n",
    "    elif score >= 0.8:\n",
    "        return \"B\"\n",
    "    elif score >= 0.7:\n",
    "        return \"C\"\n",
    "    elif score >= 0.6:\n",
    "        return \"D\"\n",
    "    else:\n",
    "        return \"F\""
   ]
  },
  {
   "cell_type": "code",
   "execution_count": 13,
   "id": "58b5189a",
   "metadata": {},
   "outputs": [],
   "source": [
    "grade = computegrade(0.5)"
   ]
  },
  {
   "cell_type": "code",
   "execution_count": 14,
   "id": "00f9031a",
   "metadata": {},
   "outputs": [
    {
     "data": {
      "text/plain": [
       "'F'"
      ]
     },
     "execution_count": 14,
     "metadata": {},
     "output_type": "execute_result"
    }
   ],
   "source": [
    "grade"
   ]
  },
  {
   "cell_type": "code",
   "execution_count": 15,
   "id": "917ff234",
   "metadata": {},
   "outputs": [
    {
     "data": {
      "text/plain": [
       "str"
      ]
     },
     "execution_count": 15,
     "metadata": {},
     "output_type": "execute_result"
    }
   ],
   "source": [
    "type(grade)"
   ]
  },
  {
   "cell_type": "code",
   "execution_count": 16,
   "id": "1c172238",
   "metadata": {},
   "outputs": [
    {
     "data": {
      "text/plain": [
       "'D'"
      ]
     },
     "execution_count": 16,
     "metadata": {},
     "output_type": "execute_result"
    }
   ],
   "source": [
    "computegrade(0.66)"
   ]
  },
  {
   "cell_type": "code",
   "execution_count": 17,
   "id": "3234481d",
   "metadata": {},
   "outputs": [
    {
     "data": {
      "text/plain": [
       "'C'"
      ]
     },
     "execution_count": 17,
     "metadata": {},
     "output_type": "execute_result"
    }
   ],
   "source": [
    "computegrade(0.79)"
   ]
  },
  {
   "cell_type": "code",
   "execution_count": 18,
   "id": "2ead8033",
   "metadata": {},
   "outputs": [
    {
     "data": {
      "text/plain": [
       "'A'"
      ]
     },
     "execution_count": 18,
     "metadata": {},
     "output_type": "execute_result"
    }
   ],
   "source": [
    "computegrade(0.99)"
   ]
  },
  {
   "cell_type": "code",
   "execution_count": 19,
   "id": "855bcf1c",
   "metadata": {},
   "outputs": [
    {
     "data": {
      "text/plain": [
       "'B'"
      ]
     },
     "execution_count": 19,
     "metadata": {},
     "output_type": "execute_result"
    }
   ],
   "source": [
    "computegrade(0.83)"
   ]
  },
  {
   "cell_type": "code",
   "execution_count": 20,
   "id": "c563ceb1",
   "metadata": {},
   "outputs": [
    {
     "data": {
      "text/plain": [
       "'F'"
      ]
     },
     "execution_count": 20,
     "metadata": {},
     "output_type": "execute_result"
    }
   ],
   "source": [
    "computegrade(0.00001)"
   ]
  },
  {
   "cell_type": "code",
   "execution_count": 21,
   "id": "725a7273",
   "metadata": {},
   "outputs": [],
   "source": [
    "def addNumbers(a, b):\n",
    "    a+b"
   ]
  },
  {
   "cell_type": "code",
   "execution_count": 22,
   "id": "ff2329ec",
   "metadata": {},
   "outputs": [],
   "source": [
    "c = addNumbers(2, 5)"
   ]
  },
  {
   "cell_type": "code",
   "execution_count": 23,
   "id": "5d9acf9f",
   "metadata": {},
   "outputs": [
    {
     "data": {
      "text/plain": [
       "NoneType"
      ]
     },
     "execution_count": 23,
     "metadata": {},
     "output_type": "execute_result"
    }
   ],
   "source": [
    "type(c)"
   ]
  },
  {
   "cell_type": "code",
   "execution_count": 25,
   "id": "b01a9581",
   "metadata": {},
   "outputs": [],
   "source": [
    "count = 1\n",
    "\n",
    "def computepay(hours, rate):\n",
    "    hours = float(hours)\n",
    "    rate = float(rate)\n",
    "    count += 1 # count = count + 1\n",
    "\n",
    "    if hours > 40:\n",
    "        pay = (hours-40)*1.5*rate + 40*rate\n",
    "    else:\n",
    "        pay = hours*rate\n",
    "\n",
    "    print(f\"Your pay is : €{pay}\")"
   ]
  },
  {
   "cell_type": "code",
   "execution_count": 26,
   "id": "da529307",
   "metadata": {},
   "outputs": [
    {
     "ename": "UnboundLocalError",
     "evalue": "cannot access local variable 'count' where it is not associated with a value",
     "output_type": "error",
     "traceback": [
      "\u001b[1;31m---------------------------------------------------------------------------\u001b[0m",
      "\u001b[1;31mUnboundLocalError\u001b[0m                         Traceback (most recent call last)",
      "Cell \u001b[1;32mIn[26], line 1\u001b[0m\n\u001b[1;32m----> 1\u001b[0m computepay(\u001b[38;5;241m2\u001b[39m, \u001b[38;5;241m3\u001b[39m)\n",
      "Cell \u001b[1;32mIn[25], line 6\u001b[0m, in \u001b[0;36mcomputepay\u001b[1;34m(hours, rate)\u001b[0m\n\u001b[0;32m      4\u001b[0m hours \u001b[38;5;241m=\u001b[39m \u001b[38;5;28mfloat\u001b[39m(hours)\n\u001b[0;32m      5\u001b[0m rate \u001b[38;5;241m=\u001b[39m \u001b[38;5;28mfloat\u001b[39m(rate)\n\u001b[1;32m----> 6\u001b[0m count \u001b[38;5;241m+\u001b[39m\u001b[38;5;241m=\u001b[39m \u001b[38;5;241m1\u001b[39m\n\u001b[0;32m      8\u001b[0m \u001b[38;5;28;01mif\u001b[39;00m hours \u001b[38;5;241m>\u001b[39m \u001b[38;5;241m40\u001b[39m:\n\u001b[0;32m      9\u001b[0m     pay \u001b[38;5;241m=\u001b[39m (hours\u001b[38;5;241m-\u001b[39m\u001b[38;5;241m40\u001b[39m)\u001b[38;5;241m*\u001b[39m\u001b[38;5;241m1.5\u001b[39m\u001b[38;5;241m*\u001b[39mrate \u001b[38;5;241m+\u001b[39m \u001b[38;5;241m40\u001b[39m\u001b[38;5;241m*\u001b[39mrate\n",
      "\u001b[1;31mUnboundLocalError\u001b[0m: cannot access local variable 'count' where it is not associated with a value"
     ]
    }
   ],
   "source": [
    "computepay(2, 3)"
   ]
  },
  {
   "cell_type": "code",
   "execution_count": null,
   "id": "17121cba",
   "metadata": {},
   "outputs": [],
   "source": []
  }
 ],
 "metadata": {
  "kernelspec": {
   "display_name": "Python 3 (ipykernel)",
   "language": "python",
   "name": "python3"
  },
  "language_info": {
   "codemirror_mode": {
    "name": "ipython",
    "version": 3
   },
   "file_extension": ".py",
   "mimetype": "text/x-python",
   "name": "python",
   "nbconvert_exporter": "python",
   "pygments_lexer": "ipython3",
   "version": "3.11.5"
  }
 },
 "nbformat": 4,
 "nbformat_minor": 5
}
