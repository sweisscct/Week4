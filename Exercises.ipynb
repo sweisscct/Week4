{
 "cells": [
  {
   "cell_type": "code",
   "execution_count": 1,
   "id": "e59c870e",
   "metadata": {},
   "outputs": [
    {
     "name": "stdout",
     "output_type": "stream",
     "text": [
      "ABC\n",
      "Zap\n",
      "ABC\n"
     ]
    }
   ],
   "source": [
    "def fred():\n",
    "     print(\"Zap\")\n",
    "def jane():\n",
    "     print(\"ABC\")\n",
    "        \n",
    "jane()\n",
    "fred()\n",
    "jane()"
   ]
  },
  {
   "cell_type": "markdown",
   "id": "3068e7e7",
   "metadata": {},
   "source": [
    "## Exercise 6: \n",
    "Rewrite your pay computation with time-and-a-half for over\n",
    "time and create a function called computepay which takes two parameters\n",
    " (hours and rate)."
   ]
  },
  {
   "cell_type": "code",
   "execution_count": 2,
   "id": "ad690120",
   "metadata": {},
   "outputs": [],
   "source": [
    "def computepay(hours, rate):\n",
    "    hours = float(hours)\n",
    "    rate = float(rate)\n",
    "\n",
    "    if hours > 40:\n",
    "        pay = (hours-40)*1.5*rate + 40*rate\n",
    "    else:\n",
    "        pay = hours*rate\n",
    "\n",
    "    print(f\"Your pay is : €{pay}\")"
   ]
  },
  {
   "cell_type": "code",
   "execution_count": 3,
   "id": "efcf8ebe",
   "metadata": {},
   "outputs": [
    {
     "name": "stdout",
     "output_type": "stream",
     "text": [
      "Your pay is : €475.0\n"
     ]
    }
   ],
   "source": [
    "computepay(45, 10)"
   ]
  },
  {
   "cell_type": "code",
   "execution_count": 4,
   "id": "4ee6da2f",
   "metadata": {},
   "outputs": [
    {
     "name": "stdout",
     "output_type": "stream",
     "text": [
      "Your pay is : €475.0\n"
     ]
    }
   ],
   "source": [
    "computepay(rate=10, hours=45)"
   ]
  },
  {
   "cell_type": "code",
   "execution_count": 5,
   "id": "106add86",
   "metadata": {},
   "outputs": [
    {
     "name": "stdout",
     "output_type": "stream",
     "text": [
      "Your pay is : €475.0\n"
     ]
    }
   ],
   "source": [
    "computepay(hours=45, rate=10)"
   ]
  },
  {
   "cell_type": "code",
   "execution_count": 6,
   "id": "dcb3799b",
   "metadata": {},
   "outputs": [
    {
     "ename": "SyntaxError",
     "evalue": "positional argument follows keyword argument (3798855838.py, line 1)",
     "output_type": "error",
     "traceback": [
      "\u001b[1;36m  Cell \u001b[1;32mIn[6], line 1\u001b[1;36m\u001b[0m\n\u001b[1;33m    computepay(hours=45, 10)\u001b[0m\n\u001b[1;37m                           ^\u001b[0m\n\u001b[1;31mSyntaxError\u001b[0m\u001b[1;31m:\u001b[0m positional argument follows keyword argument\n"
     ]
    }
   ],
   "source": [
    "#computepay(hours=45, 10)"
   ]
  },
  {
   "cell_type": "code",
   "execution_count": 7,
   "id": "659b4f71",
   "metadata": {},
   "outputs": [
    {
     "name": "stdout",
     "output_type": "stream",
     "text": [
      "Your pay is : €475.0\n"
     ]
    }
   ],
   "source": [
    "computepay(45, rate=10)"
   ]
  },
  {
   "cell_type": "markdown",
   "id": "68c32aa5",
   "metadata": {},
   "source": [
    "##  Exercise 7: \n",
    "Rewrite the grade program from the previous chapter using\n",
    " a function called computegrade that takes a score as its parameter and\n",
    " returns a grade as a string."
   ]
  },
  {
   "cell_type": "code",
   "execution_count": 12,
   "id": "3dff950d",
   "metadata": {},
   "outputs": [],
   "source": [
    "def computegrade(score):\n",
    "    score = float(score)\n",
    "\n",
    "    if score > 1:\n",
    "        print(\"Score is too big - it must be between 0 and 1 inclusive\")\n",
    "    elif score < 0:\n",
    "        print(\"Score is too small - it must be between 0 and 1 inclusive\")\n",
    "    elif score >= 0.9:\n",
    "        return \"A\"\n",
    "    elif score >= 0.8:\n",
    "        return \"B\"\n",
    "    elif score >= 0.7:\n",
    "        return \"C\"\n",
    "    elif score >= 0.6:\n",
    "        return \"D\"\n",
    "    else:\n",
    "        return \"F\""
   ]
  },
  {
   "cell_type": "code",
   "execution_count": 13,
   "id": "6307c67f",
   "metadata": {},
   "outputs": [],
   "source": [
    "grade = computegrade(0.5)"
   ]
  },
  {
   "cell_type": "code",
   "execution_count": 14,
   "id": "c96c367a",
   "metadata": {},
   "outputs": [
    {
     "data": {
      "text/plain": [
       "'F'"
      ]
     },
     "execution_count": 14,
     "metadata": {},
     "output_type": "execute_result"
    }
   ],
   "source": [
    "grade"
   ]
  },
  {
   "cell_type": "code",
   "execution_count": 15,
   "id": "848f1b3e",
   "metadata": {},
   "outputs": [
    {
     "data": {
      "text/plain": [
       "str"
      ]
     },
     "execution_count": 15,
     "metadata": {},
     "output_type": "execute_result"
    }
   ],
   "source": [
    "type(grade)"
   ]
  },
  {
   "cell_type": "code",
   "execution_count": null,
   "id": "c6ad25f8",
   "metadata": {},
   "outputs": [],
   "source": []
  }
 ],
 "metadata": {
  "kernelspec": {
   "display_name": "Python 3 (ipykernel)",
   "language": "python",
   "name": "python3"
  },
  "language_info": {
   "codemirror_mode": {
    "name": "ipython",
    "version": 3
   },
   "file_extension": ".py",
   "mimetype": "text/x-python",
   "name": "python",
   "nbconvert_exporter": "python",
   "pygments_lexer": "ipython3",
   "version": "3.11.5"
  }
 },
 "nbformat": 4,
 "nbformat_minor": 5
}
