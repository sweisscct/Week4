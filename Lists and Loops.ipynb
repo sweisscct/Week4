{
 "cells": [
  {
   "cell_type": "code",
   "execution_count": 1,
   "id": "db0ef8cc",
   "metadata": {},
   "outputs": [],
   "source": [
    "num1 = 5\n",
    "num2 = 7"
   ]
  },
  {
   "cell_type": "code",
   "execution_count": 2,
   "id": "0b378976",
   "metadata": {},
   "outputs": [],
   "source": [
    "numList = [2, 5, num1, 2, 99, num2]"
   ]
  },
  {
   "cell_type": "code",
   "execution_count": 3,
   "id": "ccd5a0c9",
   "metadata": {},
   "outputs": [
    {
     "data": {
      "text/plain": [
       "[2, 5, 5, 2, 99, 7]"
      ]
     },
     "execution_count": 3,
     "metadata": {},
     "output_type": "execute_result"
    }
   ],
   "source": [
    "numList"
   ]
  },
  {
   "cell_type": "code",
   "execution_count": 4,
   "id": "2bc40eb1",
   "metadata": {},
   "outputs": [],
   "source": [
    "num1 = 6"
   ]
  },
  {
   "cell_type": "code",
   "execution_count": 5,
   "id": "cfb3d71b",
   "metadata": {},
   "outputs": [
    {
     "data": {
      "text/plain": [
       "[2, 5, 5, 2, 99, 7]"
      ]
     },
     "execution_count": 5,
     "metadata": {},
     "output_type": "execute_result"
    }
   ],
   "source": [
    "numList"
   ]
  },
  {
   "cell_type": "code",
   "execution_count": 6,
   "id": "f8522e9d",
   "metadata": {},
   "outputs": [
    {
     "data": {
      "text/plain": [
       "2"
      ]
     },
     "execution_count": 6,
     "metadata": {},
     "output_type": "execute_result"
    }
   ],
   "source": [
    "numList[0]"
   ]
  },
  {
   "cell_type": "code",
   "execution_count": 7,
   "id": "84f993dc",
   "metadata": {},
   "outputs": [
    {
     "data": {
      "text/plain": [
       "99"
      ]
     },
     "execution_count": 7,
     "metadata": {},
     "output_type": "execute_result"
    }
   ],
   "source": [
    "numList[4]"
   ]
  },
  {
   "cell_type": "code",
   "execution_count": 8,
   "id": "725d7375",
   "metadata": {},
   "outputs": [
    {
     "ename": "IndexError",
     "evalue": "list index out of range",
     "output_type": "error",
     "traceback": [
      "\u001b[1;31m---------------------------------------------------------------------------\u001b[0m",
      "\u001b[1;31mIndexError\u001b[0m                                Traceback (most recent call last)",
      "Cell \u001b[1;32mIn[8], line 1\u001b[0m\n\u001b[1;32m----> 1\u001b[0m numList[\u001b[38;5;241m6\u001b[39m]\n",
      "\u001b[1;31mIndexError\u001b[0m: list index out of range"
     ]
    }
   ],
   "source": [
    "#numList[6]"
   ]
  },
  {
   "cell_type": "code",
   "execution_count": 9,
   "id": "d1a10738",
   "metadata": {},
   "outputs": [
    {
     "data": {
      "text/plain": [
       "6"
      ]
     },
     "execution_count": 9,
     "metadata": {},
     "output_type": "execute_result"
    }
   ],
   "source": [
    "len(numList)"
   ]
  },
  {
   "cell_type": "code",
   "execution_count": 10,
   "id": "2a43d14d",
   "metadata": {},
   "outputs": [
    {
     "data": {
      "text/plain": [
       "7"
      ]
     },
     "execution_count": 10,
     "metadata": {},
     "output_type": "execute_result"
    }
   ],
   "source": [
    "numList[len(numList) -1]"
   ]
  },
  {
   "cell_type": "code",
   "execution_count": 11,
   "id": "521bf8b0",
   "metadata": {},
   "outputs": [
    {
     "data": {
      "text/plain": [
       "7"
      ]
     },
     "execution_count": 11,
     "metadata": {},
     "output_type": "execute_result"
    }
   ],
   "source": [
    "numList[-1]"
   ]
  },
  {
   "cell_type": "code",
   "execution_count": 12,
   "id": "f9433ab0",
   "metadata": {},
   "outputs": [
    {
     "data": {
      "text/plain": [
       "[2, 5, 5, 2, 99, 7]"
      ]
     },
     "execution_count": 12,
     "metadata": {},
     "output_type": "execute_result"
    }
   ],
   "source": [
    "numList"
   ]
  },
  {
   "cell_type": "code",
   "execution_count": 13,
   "id": "e7f0a39c",
   "metadata": {},
   "outputs": [
    {
     "data": {
      "text/plain": [
       "2"
      ]
     },
     "execution_count": 13,
     "metadata": {},
     "output_type": "execute_result"
    }
   ],
   "source": [
    "numList[-3]"
   ]
  },
  {
   "cell_type": "code",
   "execution_count": 14,
   "id": "d446054d",
   "metadata": {},
   "outputs": [
    {
     "ename": "IndexError",
     "evalue": "list index out of range",
     "output_type": "error",
     "traceback": [
      "\u001b[1;31m---------------------------------------------------------------------------\u001b[0m",
      "\u001b[1;31mIndexError\u001b[0m                                Traceback (most recent call last)",
      "Cell \u001b[1;32mIn[14], line 1\u001b[0m\n\u001b[1;32m----> 1\u001b[0m numList[\u001b[38;5;241m-\u001b[39m\u001b[38;5;241m7\u001b[39m]\n",
      "\u001b[1;31mIndexError\u001b[0m: list index out of range"
     ]
    }
   ],
   "source": [
    "#numList[-7]"
   ]
  },
  {
   "cell_type": "code",
   "execution_count": 16,
   "id": "c61a83db",
   "metadata": {},
   "outputs": [],
   "source": [
    "# import random"
   ]
  },
  {
   "cell_type": "code",
   "execution_count": 22,
   "id": "f976855c",
   "metadata": {},
   "outputs": [
    {
     "data": {
      "text/plain": [
       "33"
      ]
     },
     "execution_count": 22,
     "metadata": {},
     "output_type": "execute_result"
    }
   ],
   "source": [
    "# random.randint(0, 100)"
   ]
  },
  {
   "cell_type": "code",
   "execution_count": null,
   "id": "0f637e1c",
   "metadata": {},
   "outputs": [],
   "source": [
    "# randNum = random.randint(0, 100)\n",
    "# if randNum in numList:\n",
    "#     randNum = random.randint(0, 100)"
   ]
  },
  {
   "cell_type": "markdown",
   "id": "917bfd4f",
   "metadata": {},
   "source": [
    "## List Slice"
   ]
  },
  {
   "cell_type": "code",
   "execution_count": 23,
   "id": "f1f8c681",
   "metadata": {},
   "outputs": [
    {
     "data": {
      "text/plain": [
       "[2, 5, 5, 2, 99, 7]"
      ]
     },
     "execution_count": 23,
     "metadata": {},
     "output_type": "execute_result"
    }
   ],
   "source": [
    "numList"
   ]
  },
  {
   "cell_type": "code",
   "execution_count": 24,
   "id": "34f8115d",
   "metadata": {},
   "outputs": [
    {
     "data": {
      "text/plain": [
       "[5, 5, 2]"
      ]
     },
     "execution_count": 24,
     "metadata": {},
     "output_type": "execute_result"
    }
   ],
   "source": [
    "numList[1:4] # this does not include the endpoint"
   ]
  },
  {
   "cell_type": "code",
   "execution_count": 25,
   "id": "1541394b",
   "metadata": {},
   "outputs": [
    {
     "data": {
      "text/plain": [
       "[2, 5, 5, 2]"
      ]
     },
     "execution_count": 25,
     "metadata": {},
     "output_type": "execute_result"
    }
   ],
   "source": [
    "numList[:4]"
   ]
  },
  {
   "cell_type": "code",
   "execution_count": 26,
   "id": "6bdc1a35",
   "metadata": {},
   "outputs": [
    {
     "data": {
      "text/plain": [
       "[5, 5, 2, 99, 7]"
      ]
     },
     "execution_count": 26,
     "metadata": {},
     "output_type": "execute_result"
    }
   ],
   "source": [
    "numList[1:]"
   ]
  },
  {
   "cell_type": "markdown",
   "id": "862317e4",
   "metadata": {},
   "source": [
    "## Adding to the list"
   ]
  },
  {
   "cell_type": "code",
   "execution_count": 27,
   "id": "a0e47577",
   "metadata": {},
   "outputs": [],
   "source": [
    "numList.append(\"random number\")"
   ]
  },
  {
   "cell_type": "code",
   "execution_count": 28,
   "id": "6957de5f",
   "metadata": {},
   "outputs": [
    {
     "data": {
      "text/plain": [
       "[2, 5, 5, 2, 99, 7, 'random number']"
      ]
     },
     "execution_count": 28,
     "metadata": {},
     "output_type": "execute_result"
    }
   ],
   "source": [
    "numList"
   ]
  },
  {
   "cell_type": "code",
   "execution_count": 29,
   "id": "5304b813",
   "metadata": {},
   "outputs": [
    {
     "data": {
      "text/plain": [
       "'random number'"
      ]
     },
     "execution_count": 29,
     "metadata": {},
     "output_type": "execute_result"
    }
   ],
   "source": [
    "numList[-1]"
   ]
  },
  {
   "cell_type": "code",
   "execution_count": 30,
   "id": "d0a90250",
   "metadata": {},
   "outputs": [],
   "source": [
    "numList.append(numList)"
   ]
  },
  {
   "cell_type": "code",
   "execution_count": 31,
   "id": "96960a7c",
   "metadata": {},
   "outputs": [
    {
     "data": {
      "text/plain": [
       "[2, 5, 5, 2, 99, 7, 'random number', [...]]"
      ]
     },
     "execution_count": 31,
     "metadata": {},
     "output_type": "execute_result"
    }
   ],
   "source": [
    "numList[-1]"
   ]
  },
  {
   "cell_type": "code",
   "execution_count": 32,
   "id": "c1534d38",
   "metadata": {},
   "outputs": [],
   "source": [
    "numList.insert(1, 3)"
   ]
  },
  {
   "cell_type": "code",
   "execution_count": 33,
   "id": "5ec3ee80",
   "metadata": {},
   "outputs": [
    {
     "data": {
      "text/plain": [
       "[2, 3, 5, 5, 2, 99, 7, 'random number', [...]]"
      ]
     },
     "execution_count": 33,
     "metadata": {},
     "output_type": "execute_result"
    }
   ],
   "source": [
    "numList"
   ]
  },
  {
   "cell_type": "code",
   "execution_count": 34,
   "id": "46170f3b",
   "metadata": {},
   "outputs": [],
   "source": [
    "numList.extend(numList)"
   ]
  },
  {
   "cell_type": "code",
   "execution_count": 35,
   "id": "ed3853c1",
   "metadata": {},
   "outputs": [
    {
     "data": {
      "text/plain": [
       "[2,\n",
       " 3,\n",
       " 5,\n",
       " 5,\n",
       " 2,\n",
       " 99,\n",
       " 7,\n",
       " 'random number',\n",
       " [...],\n",
       " 2,\n",
       " 3,\n",
       " 5,\n",
       " 5,\n",
       " 2,\n",
       " 99,\n",
       " 7,\n",
       " 'random number',\n",
       " [...]]"
      ]
     },
     "execution_count": 35,
     "metadata": {},
     "output_type": "execute_result"
    }
   ],
   "source": [
    "numList"
   ]
  },
  {
   "cell_type": "code",
   "execution_count": 38,
   "id": "26abf430",
   "metadata": {},
   "outputs": [],
   "source": [
    "secondList = [2, 5, 9]\n",
    "stringList = [\"hi\", \"python\"]"
   ]
  },
  {
   "cell_type": "code",
   "execution_count": 39,
   "id": "9593779e",
   "metadata": {},
   "outputs": [],
   "source": [
    "secondList.append(stringList)"
   ]
  },
  {
   "cell_type": "code",
   "execution_count": 40,
   "id": "6eeca83a",
   "metadata": {},
   "outputs": [
    {
     "data": {
      "text/plain": [
       "[2, 5, 9, ['hi', 'python']]"
      ]
     },
     "execution_count": 40,
     "metadata": {},
     "output_type": "execute_result"
    }
   ],
   "source": [
    "secondList"
   ]
  },
  {
   "cell_type": "code",
   "execution_count": 41,
   "id": "09ab136f",
   "metadata": {},
   "outputs": [
    {
     "data": {
      "text/plain": [
       "['hi', 'python']"
      ]
     },
     "execution_count": 41,
     "metadata": {},
     "output_type": "execute_result"
    }
   ],
   "source": [
    "secondList[-1]"
   ]
  },
  {
   "cell_type": "code",
   "execution_count": 42,
   "id": "6761ccf2",
   "metadata": {},
   "outputs": [],
   "source": [
    "secondList.extend(stringList)"
   ]
  },
  {
   "cell_type": "code",
   "execution_count": 43,
   "id": "93cd1b9a",
   "metadata": {},
   "outputs": [
    {
     "data": {
      "text/plain": [
       "[2, 5, 9, ['hi', 'python'], 'hi', 'python']"
      ]
     },
     "execution_count": 43,
     "metadata": {},
     "output_type": "execute_result"
    }
   ],
   "source": [
    "secondList"
   ]
  },
  {
   "cell_type": "code",
   "execution_count": 44,
   "id": "2b49c914",
   "metadata": {},
   "outputs": [
    {
     "data": {
      "text/plain": [
       "'python'"
      ]
     },
     "execution_count": 44,
     "metadata": {},
     "output_type": "execute_result"
    }
   ],
   "source": [
    "secondList[-1]"
   ]
  },
  {
   "cell_type": "code",
   "execution_count": 46,
   "id": "fdfafd0a",
   "metadata": {},
   "outputs": [
    {
     "data": {
      "text/plain": [
       "'python'"
      ]
     },
     "execution_count": 46,
     "metadata": {},
     "output_type": "execute_result"
    }
   ],
   "source": [
    "secondList[-3][-1]"
   ]
  },
  {
   "cell_type": "code",
   "execution_count": 47,
   "id": "97b25a36",
   "metadata": {},
   "outputs": [
    {
     "data": {
      "text/plain": [
       "'python'"
      ]
     },
     "execution_count": 47,
     "metadata": {},
     "output_type": "execute_result"
    }
   ],
   "source": [
    "secondList[3][1]"
   ]
  },
  {
   "cell_type": "markdown",
   "id": "de8d40ea",
   "metadata": {},
   "source": [
    "## Removing elements from a list"
   ]
  },
  {
   "cell_type": "code",
   "execution_count": 48,
   "id": "1ec519b1",
   "metadata": {},
   "outputs": [
    {
     "data": {
      "text/plain": [
       "[2, 5, 9, ['hi', 'python'], 'hi', 'python']"
      ]
     },
     "execution_count": 48,
     "metadata": {},
     "output_type": "execute_result"
    }
   ],
   "source": [
    "secondList"
   ]
  },
  {
   "cell_type": "code",
   "execution_count": 49,
   "id": "cde97275",
   "metadata": {},
   "outputs": [],
   "source": [
    "secondList.remove(9) # removes the first occurence of the input"
   ]
  },
  {
   "cell_type": "code",
   "execution_count": 50,
   "id": "7f184b7e",
   "metadata": {},
   "outputs": [
    {
     "data": {
      "text/plain": [
       "[2, 5, ['hi', 'python'], 'hi', 'python']"
      ]
     },
     "execution_count": 50,
     "metadata": {},
     "output_type": "execute_result"
    }
   ],
   "source": [
    "secondList"
   ]
  },
  {
   "cell_type": "code",
   "execution_count": 51,
   "id": "eda238b0",
   "metadata": {},
   "outputs": [
    {
     "data": {
      "text/plain": [
       "2"
      ]
     },
     "execution_count": 51,
     "metadata": {},
     "output_type": "execute_result"
    }
   ],
   "source": [
    "secondList.pop(0) # removes and returns the element and the input index"
   ]
  },
  {
   "cell_type": "code",
   "execution_count": 52,
   "id": "00da1020",
   "metadata": {},
   "outputs": [],
   "source": [
    "del stringList"
   ]
  },
  {
   "cell_type": "code",
   "execution_count": 54,
   "id": "dea3acd1",
   "metadata": {},
   "outputs": [],
   "source": [
    "#stringList"
   ]
  },
  {
   "cell_type": "code",
   "execution_count": 55,
   "id": "0676f2ec",
   "metadata": {},
   "outputs": [
    {
     "data": {
      "text/plain": [
       "[5, ['hi', 'python'], 'hi', 'python']"
      ]
     },
     "execution_count": 55,
     "metadata": {},
     "output_type": "execute_result"
    }
   ],
   "source": [
    "secondList"
   ]
  },
  {
   "cell_type": "code",
   "execution_count": 56,
   "id": "81cd6a21",
   "metadata": {},
   "outputs": [],
   "source": [
    "del secondList[-1]"
   ]
  },
  {
   "cell_type": "code",
   "execution_count": 57,
   "id": "f9140a50",
   "metadata": {},
   "outputs": [
    {
     "data": {
      "text/plain": [
       "[5, ['hi', 'python'], 'hi']"
      ]
     },
     "execution_count": 57,
     "metadata": {},
     "output_type": "execute_result"
    }
   ],
   "source": [
    "secondList"
   ]
  },
  {
   "cell_type": "code",
   "execution_count": 58,
   "id": "43614856",
   "metadata": {},
   "outputs": [],
   "source": [
    "del secondList[:-1]"
   ]
  },
  {
   "cell_type": "code",
   "execution_count": 59,
   "id": "b1a042b1",
   "metadata": {},
   "outputs": [
    {
     "data": {
      "text/plain": [
       "['hi']"
      ]
     },
     "execution_count": 59,
     "metadata": {},
     "output_type": "execute_result"
    }
   ],
   "source": [
    "secondList"
   ]
  },
  {
   "cell_type": "markdown",
   "id": "efb33a9b",
   "metadata": {},
   "source": [
    "## Loops\n",
    "Ways for us to repeat our code\n",
    "\n",
    "- for\n",
    "    - Let's us repeat code a fixed amount of times\n",
    "    - Let's us repeat code directly on elements of lists\n",
    "- while\n",
    "    - Let's us repeat code an unknown number of times"
   ]
  },
  {
   "cell_type": "code",
   "execution_count": 60,
   "id": "b4e97065",
   "metadata": {},
   "outputs": [],
   "source": [
    "numList = [2, 4, 6, 8, 10]"
   ]
  },
  {
   "cell_type": "code",
   "execution_count": 61,
   "id": "513ea4b8",
   "metadata": {},
   "outputs": [
    {
     "data": {
      "text/plain": [
       "range(0, 10)"
      ]
     },
     "execution_count": 61,
     "metadata": {},
     "output_type": "execute_result"
    }
   ],
   "source": [
    "range(10)"
   ]
  },
  {
   "cell_type": "code",
   "execution_count": 62,
   "id": "6ea1f3ce",
   "metadata": {},
   "outputs": [
    {
     "name": "stdout",
     "output_type": "stream",
     "text": [
      "0\n",
      "1\n",
      "4\n",
      "9\n",
      "16\n",
      "25\n",
      "36\n",
      "49\n",
      "64\n",
      "81\n"
     ]
    }
   ],
   "source": [
    "for num in range(10):\n",
    "    print(num**2)"
   ]
  },
  {
   "cell_type": "code",
   "execution_count": 63,
   "id": "f129b79c",
   "metadata": {},
   "outputs": [
    {
     "name": "stdout",
     "output_type": "stream",
     "text": [
      "100\n",
      "225\n",
      "400\n",
      "625\n"
     ]
    }
   ],
   "source": [
    "for num in range(10, 30, 5):\n",
    "    print(num**2)"
   ]
  },
  {
   "cell_type": "code",
   "execution_count": 64,
   "id": "5d32cf9e",
   "metadata": {},
   "outputs": [
    {
     "data": {
      "text/plain": [
       "[2, 4, 6, 8, 10]"
      ]
     },
     "execution_count": 64,
     "metadata": {},
     "output_type": "execute_result"
    }
   ],
   "source": [
    "numList"
   ]
  },
  {
   "cell_type": "code",
   "execution_count": 65,
   "id": "8de04ec0",
   "metadata": {},
   "outputs": [
    {
     "data": {
      "text/plain": [
       "5"
      ]
     },
     "execution_count": 65,
     "metadata": {},
     "output_type": "execute_result"
    }
   ],
   "source": [
    "len(numList)"
   ]
  },
  {
   "cell_type": "code",
   "execution_count": 67,
   "id": "2c391b07",
   "metadata": {},
   "outputs": [
    {
     "name": "stdout",
     "output_type": "stream",
     "text": [
      "4\n",
      "16\n",
      "36\n",
      "64\n",
      "100\n"
     ]
    }
   ],
   "source": [
    "for asdf in range(len(numList)):\n",
    "    print(numList[asdf]**2)"
   ]
  },
  {
   "cell_type": "code",
   "execution_count": 69,
   "id": "1831b644",
   "metadata": {},
   "outputs": [
    {
     "name": "stdout",
     "output_type": "stream",
     "text": [
      "4\n",
      "Python is fun\n",
      "16\n",
      "Python is fun\n",
      "36\n",
      "Python is fun\n",
      "64\n",
      "Python is fun\n",
      "100\n",
      "Python is fun\n"
     ]
    }
   ],
   "source": [
    "for num in numList:\n",
    "    print(num**2)\n",
    "    print(\"Python is fun\")"
   ]
  },
  {
   "cell_type": "code",
   "execution_count": 70,
   "id": "e7847e95",
   "metadata": {},
   "outputs": [
    {
     "name": "stderr",
     "output_type": "stream",
     "text": [
      "IOPub data rate exceeded.\n",
      "The notebook server will temporarily stop sending output\n",
      "to the client in order to avoid crashing it.\n",
      "To change this limit, set the config variable\n",
      "`--NotebookApp.iopub_data_rate_limit`.\n",
      "\n",
      "Current values:\n",
      "NotebookApp.iopub_data_rate_limit=1000000.0 (bytes/sec)\n",
      "NotebookApp.rate_limit_window=3.0 (secs)\n",
      "\n"
     ]
    },
    {
     "ename": "KeyboardInterrupt",
     "evalue": "",
     "output_type": "error",
     "traceback": [
      "\u001b[1;31m---------------------------------------------------------------------------\u001b[0m",
      "\u001b[1;31mKeyboardInterrupt\u001b[0m                         Traceback (most recent call last)",
      "Cell \u001b[1;32mIn[70], line 2\u001b[0m\n\u001b[0;32m      1\u001b[0m \u001b[38;5;28;01mwhile\u001b[39;00m \u001b[38;5;28;01mTrue\u001b[39;00m:\n\u001b[1;32m----> 2\u001b[0m     \u001b[38;5;28mprint\u001b[39m(\u001b[38;5;124m\"\u001b[39m\u001b[38;5;124mDon\u001b[39m\u001b[38;5;124m'\u001b[39m\u001b[38;5;124mt do this at home\u001b[39m\u001b[38;5;124m\"\u001b[39m)\n",
      "File \u001b[1;32m~\\anaconda3\\Lib\\site-packages\\ipykernel\\iostream.py:635\u001b[0m, in \u001b[0;36mOutStream.write\u001b[1;34m(self, string)\u001b[0m\n\u001b[0;32m    633\u001b[0m     \u001b[38;5;28;01mraise\u001b[39;00m \u001b[38;5;167;01mValueError\u001b[39;00m(msg)\n\u001b[0;32m    634\u001b[0m \u001b[38;5;28;01melse\u001b[39;00m:\n\u001b[1;32m--> 635\u001b[0m     is_child \u001b[38;5;241m=\u001b[39m \u001b[38;5;129;01mnot\u001b[39;00m \u001b[38;5;28mself\u001b[39m\u001b[38;5;241m.\u001b[39m_is_master_process()\n\u001b[0;32m    636\u001b[0m     \u001b[38;5;66;03m# only touch the buffer in the IO thread to avoid races\u001b[39;00m\n\u001b[0;32m    637\u001b[0m     \u001b[38;5;28;01mwith\u001b[39;00m \u001b[38;5;28mself\u001b[39m\u001b[38;5;241m.\u001b[39m_buffer_lock:\n",
      "File \u001b[1;32m~\\anaconda3\\Lib\\site-packages\\ipykernel\\iostream.py:505\u001b[0m, in \u001b[0;36mOutStream._is_master_process\u001b[1;34m(self)\u001b[0m\n\u001b[0;32m    502\u001b[0m     \u001b[38;5;28mself\u001b[39m\u001b[38;5;241m.\u001b[39mwatch_fd_thread\u001b[38;5;241m.\u001b[39mdaemon \u001b[38;5;241m=\u001b[39m \u001b[38;5;28;01mTrue\u001b[39;00m\n\u001b[0;32m    503\u001b[0m     \u001b[38;5;28mself\u001b[39m\u001b[38;5;241m.\u001b[39mwatch_fd_thread\u001b[38;5;241m.\u001b[39mstart()\n\u001b[1;32m--> 505\u001b[0m \u001b[38;5;28;01mdef\u001b[39;00m \u001b[38;5;21m_is_master_process\u001b[39m(\u001b[38;5;28mself\u001b[39m):\n\u001b[0;32m    506\u001b[0m     \u001b[38;5;28;01mreturn\u001b[39;00m os\u001b[38;5;241m.\u001b[39mgetpid() \u001b[38;5;241m==\u001b[39m \u001b[38;5;28mself\u001b[39m\u001b[38;5;241m.\u001b[39m_master_pid\n\u001b[0;32m    508\u001b[0m \u001b[38;5;28;01mdef\u001b[39;00m \u001b[38;5;21mset_parent\u001b[39m(\u001b[38;5;28mself\u001b[39m, parent):\n",
      "\u001b[1;31mKeyboardInterrupt\u001b[0m: "
     ]
    }
   ],
   "source": [
    "while True:\n",
    "    print(\"Don't do this at home\")"
   ]
  },
  {
   "cell_type": "code",
   "execution_count": 71,
   "id": "bbf93758",
   "metadata": {},
   "outputs": [],
   "source": [
    "numList = [2, 5, 7, 2, 5, 9, 0, 2, 4, 7, 1, 0, 100]"
   ]
  },
  {
   "cell_type": "code",
   "execution_count": 72,
   "id": "151cfa03",
   "metadata": {},
   "outputs": [
    {
     "name": "stdout",
     "output_type": "stream",
     "text": [
      "[5, 7, 2, 5, 9, 0, 2, 4, 7, 1, 0, 100]\n",
      "[5, 7, 5, 9, 0, 2, 4, 7, 1, 0, 100]\n",
      "[5, 7, 5, 9, 0, 4, 7, 1, 0, 100]\n"
     ]
    }
   ],
   "source": [
    "while 2 in numList:\n",
    "    numList.remove(2)\n",
    "    print(numList)"
   ]
  },
  {
   "cell_type": "code",
   "execution_count": 73,
   "id": "d61da89f",
   "metadata": {},
   "outputs": [],
   "source": [
    "while 99 in numList:\n",
    "    numList.remove(99)\n",
    "    print(numList)"
   ]
  },
  {
   "cell_type": "code",
   "execution_count": 74,
   "id": "4f37b801",
   "metadata": {},
   "outputs": [
    {
     "name": "stdout",
     "output_type": "stream",
     "text": [
      "0 5\n",
      "1 7\n",
      "2 5\n",
      "3 9\n",
      "4 0\n",
      "5 4\n",
      "6 7\n",
      "7 1\n",
      "8 0\n",
      "9 100\n"
     ]
    }
   ],
   "source": [
    "for index, element in enumerate(numList):\n",
    "    print(index, element)"
   ]
  },
  {
   "cell_type": "markdown",
   "id": "fb2099bc",
   "metadata": {},
   "source": [
    "## Homework\n",
    "- Ch.5 Exercises\n",
    "- Ch. 9 Exercise 6"
   ]
  },
  {
   "cell_type": "code",
   "execution_count": 75,
   "id": "1885f6ca",
   "metadata": {},
   "outputs": [
    {
     "name": "stdout",
     "output_type": "stream",
     "text": [
      "[1, 4, 9]\n"
     ]
    }
   ],
   "source": [
    "vec1 = [1, 2, 3]\n",
    "newVec = []\n",
    "\n",
    "for num in vec1:\n",
    "    newVec.append(num**2)\n",
    "print(newVec)"
   ]
  },
  {
   "cell_type": "code",
   "execution_count": 76,
   "id": "bd2b491c",
   "metadata": {},
   "outputs": [],
   "source": [
    "matrix = [\n",
    "    [1, 2, 3],\n",
    "    [6, 7, 8]\n",
    "]"
   ]
  },
  {
   "cell_type": "code",
   "execution_count": 77,
   "id": "4cfabdbb",
   "metadata": {},
   "outputs": [
    {
     "data": {
      "text/plain": [
       "2"
      ]
     },
     "execution_count": 77,
     "metadata": {},
     "output_type": "execute_result"
    }
   ],
   "source": [
    "matrix[0][1]"
   ]
  },
  {
   "cell_type": "code",
   "execution_count": 79,
   "id": "77cd90fd",
   "metadata": {},
   "outputs": [
    {
     "data": {
      "text/plain": [
       "[[1, 2, 3],\n",
       " [6, 7, 8],\n",
       " [0, 0, 0],\n",
       " [1, 2, 3],\n",
       " [2, 4, 6],\n",
       " [3, 6, 9],\n",
       " [4, 8, 12],\n",
       " [5, 10, 15],\n",
       " [6, 12, 18],\n",
       " [7, 14, 21],\n",
       " [8, 16, 24],\n",
       " [9, 18, 27]]"
      ]
     },
     "execution_count": 79,
     "metadata": {},
     "output_type": "execute_result"
    }
   ],
   "source": [
    "vec1 = [1, 2, 3]\n",
    "matrix = [\n",
    "    [1, 2, 3],\n",
    "    [6, 7, 8]\n",
    "]\n",
    "\n",
    "for num in range(10):\n",
    "    row = []\n",
    "    for vec in vec1:\n",
    "        row.append(vec*num)\n",
    "    matrix.append(row)\n",
    "matrix"
   ]
  },
  {
   "cell_type": "code",
   "execution_count": 80,
   "id": "f118d272",
   "metadata": {},
   "outputs": [],
   "source": [
    "import numpy as np"
   ]
  },
  {
   "cell_type": "code",
   "execution_count": 81,
   "id": "3748ff03",
   "metadata": {},
   "outputs": [],
   "source": [
    "matrix = np.array(matrix)"
   ]
  },
  {
   "cell_type": "code",
   "execution_count": 82,
   "id": "b6f5a090",
   "metadata": {
    "collapsed": true
   },
   "outputs": [
    {
     "data": {
      "text/plain": [
       "array([[ 1,  2,  3],\n",
       "       [ 6,  7,  8],\n",
       "       [ 0,  0,  0],\n",
       "       [ 1,  2,  3],\n",
       "       [ 2,  4,  6],\n",
       "       [ 3,  6,  9],\n",
       "       [ 4,  8, 12],\n",
       "       [ 5, 10, 15],\n",
       "       [ 6, 12, 18],\n",
       "       [ 7, 14, 21],\n",
       "       [ 8, 16, 24],\n",
       "       [ 9, 18, 27]])"
      ]
     },
     "execution_count": 82,
     "metadata": {},
     "output_type": "execute_result"
    }
   ],
   "source": [
    "matrix"
   ]
  },
  {
   "cell_type": "code",
   "execution_count": 83,
   "id": "299c0e41",
   "metadata": {},
   "outputs": [],
   "source": [
    "vec1 = np.array(vec1)"
   ]
  },
  {
   "cell_type": "code",
   "execution_count": 84,
   "id": "9655cb19",
   "metadata": {},
   "outputs": [
    {
     "data": {
      "text/plain": [
       "array([3, 6, 9])"
      ]
     },
     "execution_count": 84,
     "metadata": {},
     "output_type": "execute_result"
    }
   ],
   "source": [
    "vec1 * 3"
   ]
  },
  {
   "cell_type": "code",
   "execution_count": 90,
   "id": "cb443ab4",
   "metadata": {},
   "outputs": [
    {
     "ename": "ValueError",
     "evalue": "all the input arrays must have same number of dimensions, but the array at index 0 has 2 dimension(s) and the array at index 1 has 1 dimension(s)",
     "output_type": "error",
     "traceback": [
      "\u001b[1;31m---------------------------------------------------------------------------\u001b[0m",
      "\u001b[1;31mValueError\u001b[0m                                Traceback (most recent call last)",
      "Cell \u001b[1;32mIn[90], line 2\u001b[0m\n\u001b[0;32m      1\u001b[0m \u001b[38;5;28;01mfor\u001b[39;00m i \u001b[38;5;129;01min\u001b[39;00m \u001b[38;5;28mrange\u001b[39m(\u001b[38;5;241m10\u001b[39m, \u001b[38;5;241m20\u001b[39m):\n\u001b[1;32m----> 2\u001b[0m     np\u001b[38;5;241m.\u001b[39mappend(matrix, vec1\u001b[38;5;241m*\u001b[39mi, axis\u001b[38;5;241m=\u001b[39m\u001b[38;5;241m0\u001b[39m)\n",
      "File \u001b[1;32m<__array_function__ internals>:200\u001b[0m, in \u001b[0;36mappend\u001b[1;34m(*args, **kwargs)\u001b[0m\n",
      "File \u001b[1;32m~\\anaconda3\\Lib\\site-packages\\numpy\\lib\\function_base.py:5499\u001b[0m, in \u001b[0;36mappend\u001b[1;34m(arr, values, axis)\u001b[0m\n\u001b[0;32m   5497\u001b[0m     values \u001b[38;5;241m=\u001b[39m ravel(values)\n\u001b[0;32m   5498\u001b[0m     axis \u001b[38;5;241m=\u001b[39m arr\u001b[38;5;241m.\u001b[39mndim\u001b[38;5;241m-\u001b[39m\u001b[38;5;241m1\u001b[39m\n\u001b[1;32m-> 5499\u001b[0m \u001b[38;5;28;01mreturn\u001b[39;00m concatenate((arr, values), axis\u001b[38;5;241m=\u001b[39maxis)\n",
      "File \u001b[1;32m<__array_function__ internals>:200\u001b[0m, in \u001b[0;36mconcatenate\u001b[1;34m(*args, **kwargs)\u001b[0m\n",
      "\u001b[1;31mValueError\u001b[0m: all the input arrays must have same number of dimensions, but the array at index 0 has 2 dimension(s) and the array at index 1 has 1 dimension(s)"
     ]
    }
   ],
   "source": [
    "for i in range(10, 20):\n",
    "    np.append(matrix, vec1*i, axis=0)"
   ]
  },
  {
   "cell_type": "code",
   "execution_count": 91,
   "id": "8b5bfa10",
   "metadata": {},
   "outputs": [
    {
     "data": {
      "text/plain": [
       "array([[ 1,  2,  3],\n",
       "       [ 6,  7,  8],\n",
       "       [ 0,  0,  0],\n",
       "       [ 1,  2,  3],\n",
       "       [ 2,  4,  6],\n",
       "       [ 3,  6,  9],\n",
       "       [ 4,  8, 12],\n",
       "       [ 5, 10, 15],\n",
       "       [ 6, 12, 18],\n",
       "       [ 7, 14, 21],\n",
       "       [ 8, 16, 24],\n",
       "       [ 9, 18, 27]])"
      ]
     },
     "execution_count": 91,
     "metadata": {},
     "output_type": "execute_result"
    }
   ],
   "source": [
    "matrix"
   ]
  },
  {
   "cell_type": "code",
   "execution_count": null,
   "id": "9a731fd2",
   "metadata": {},
   "outputs": [],
   "source": []
  }
 ],
 "metadata": {
  "kernelspec": {
   "display_name": "Python 3 (ipykernel)",
   "language": "python",
   "name": "python3"
  },
  "language_info": {
   "codemirror_mode": {
    "name": "ipython",
    "version": 3
   },
   "file_extension": ".py",
   "mimetype": "text/x-python",
   "name": "python",
   "nbconvert_exporter": "python",
   "pygments_lexer": "ipython3",
   "version": "3.11.5"
  }
 },
 "nbformat": 4,
 "nbformat_minor": 5
}
