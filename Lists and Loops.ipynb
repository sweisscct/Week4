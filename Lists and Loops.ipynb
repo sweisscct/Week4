{
 "cells": [
  {
   "cell_type": "code",
   "execution_count": 1,
   "id": "ea34ac20",
   "metadata": {},
   "outputs": [],
   "source": [
    "num1 = 5\n",
    "num2 = 7"
   ]
  },
  {
   "cell_type": "code",
   "execution_count": 2,
   "id": "303d60eb",
   "metadata": {},
   "outputs": [],
   "source": [
    "numList = [2, 5, num1, 2, 99, num2]"
   ]
  },
  {
   "cell_type": "code",
   "execution_count": 3,
   "id": "d6e533aa",
   "metadata": {},
   "outputs": [
    {
     "data": {
      "text/plain": [
       "[2, 5, 5, 2, 99, 7]"
      ]
     },
     "execution_count": 3,
     "metadata": {},
     "output_type": "execute_result"
    }
   ],
   "source": [
    "numList"
   ]
  },
  {
   "cell_type": "code",
   "execution_count": 4,
   "id": "9d876743",
   "metadata": {},
   "outputs": [],
   "source": [
    "num1 = 6"
   ]
  },
  {
   "cell_type": "code",
   "execution_count": 5,
   "id": "72b7c360",
   "metadata": {},
   "outputs": [
    {
     "data": {
      "text/plain": [
       "[2, 5, 5, 2, 99, 7]"
      ]
     },
     "execution_count": 5,
     "metadata": {},
     "output_type": "execute_result"
    }
   ],
   "source": [
    "numList"
   ]
  },
  {
   "cell_type": "code",
   "execution_count": 6,
   "id": "022cb667",
   "metadata": {},
   "outputs": [
    {
     "data": {
      "text/plain": [
       "2"
      ]
     },
     "execution_count": 6,
     "metadata": {},
     "output_type": "execute_result"
    }
   ],
   "source": [
    "numList[0]"
   ]
  },
  {
   "cell_type": "code",
   "execution_count": 7,
   "id": "00b301e4",
   "metadata": {},
   "outputs": [
    {
     "data": {
      "text/plain": [
       "99"
      ]
     },
     "execution_count": 7,
     "metadata": {},
     "output_type": "execute_result"
    }
   ],
   "source": [
    "numList[4]"
   ]
  },
  {
   "cell_type": "code",
   "execution_count": 8,
   "id": "192f3278",
   "metadata": {},
   "outputs": [
    {
     "ename": "IndexError",
     "evalue": "list index out of range",
     "output_type": "error",
     "traceback": [
      "\u001b[1;31m---------------------------------------------------------------------------\u001b[0m",
      "\u001b[1;31mIndexError\u001b[0m                                Traceback (most recent call last)",
      "Cell \u001b[1;32mIn[8], line 1\u001b[0m\n\u001b[1;32m----> 1\u001b[0m numList[\u001b[38;5;241m6\u001b[39m]\n",
      "\u001b[1;31mIndexError\u001b[0m: list index out of range"
     ]
    }
   ],
   "source": [
    "#numList[6]"
   ]
  },
  {
   "cell_type": "code",
   "execution_count": 9,
   "id": "eafb0299",
   "metadata": {},
   "outputs": [
    {
     "data": {
      "text/plain": [
       "6"
      ]
     },
     "execution_count": 9,
     "metadata": {},
     "output_type": "execute_result"
    }
   ],
   "source": [
    "len(numList)"
   ]
  },
  {
   "cell_type": "code",
   "execution_count": 10,
   "id": "2fb896bd",
   "metadata": {},
   "outputs": [
    {
     "data": {
      "text/plain": [
       "7"
      ]
     },
     "execution_count": 10,
     "metadata": {},
     "output_type": "execute_result"
    }
   ],
   "source": [
    "numList[len(numList) -1]"
   ]
  },
  {
   "cell_type": "code",
   "execution_count": 11,
   "id": "f0413454",
   "metadata": {},
   "outputs": [
    {
     "data": {
      "text/plain": [
       "7"
      ]
     },
     "execution_count": 11,
     "metadata": {},
     "output_type": "execute_result"
    }
   ],
   "source": [
    "numList[-1]"
   ]
  },
  {
   "cell_type": "code",
   "execution_count": 12,
   "id": "4ee16984",
   "metadata": {},
   "outputs": [
    {
     "data": {
      "text/plain": [
       "[2, 5, 5, 2, 99, 7]"
      ]
     },
     "execution_count": 12,
     "metadata": {},
     "output_type": "execute_result"
    }
   ],
   "source": [
    "numList"
   ]
  },
  {
   "cell_type": "code",
   "execution_count": 13,
   "id": "af7813ca",
   "metadata": {},
   "outputs": [
    {
     "data": {
      "text/plain": [
       "2"
      ]
     },
     "execution_count": 13,
     "metadata": {},
     "output_type": "execute_result"
    }
   ],
   "source": [
    "numList[-3]"
   ]
  },
  {
   "cell_type": "code",
   "execution_count": 14,
   "id": "5d5a83f5",
   "metadata": {},
   "outputs": [
    {
     "ename": "IndexError",
     "evalue": "list index out of range",
     "output_type": "error",
     "traceback": [
      "\u001b[1;31m---------------------------------------------------------------------------\u001b[0m",
      "\u001b[1;31mIndexError\u001b[0m                                Traceback (most recent call last)",
      "Cell \u001b[1;32mIn[14], line 1\u001b[0m\n\u001b[1;32m----> 1\u001b[0m numList[\u001b[38;5;241m-\u001b[39m\u001b[38;5;241m7\u001b[39m]\n",
      "\u001b[1;31mIndexError\u001b[0m: list index out of range"
     ]
    }
   ],
   "source": [
    "#numList[-7]"
   ]
  },
  {
   "cell_type": "code",
   "execution_count": 16,
   "id": "1c273052",
   "metadata": {},
   "outputs": [],
   "source": [
    "# import random"
   ]
  },
  {
   "cell_type": "code",
   "execution_count": 22,
   "id": "7c393e7e",
   "metadata": {},
   "outputs": [
    {
     "data": {
      "text/plain": [
       "33"
      ]
     },
     "execution_count": 22,
     "metadata": {},
     "output_type": "execute_result"
    }
   ],
   "source": [
    "# random.randint(0, 100)"
   ]
  },
  {
   "cell_type": "code",
   "execution_count": null,
   "id": "339fdede",
   "metadata": {},
   "outputs": [],
   "source": [
    "# randNum = random.randint(0, 100)\n",
    "# if randNum in numList:\n",
    "#     randNum = random.randint(0, 100)"
   ]
  },
  {
   "cell_type": "markdown",
   "id": "d9d87029",
   "metadata": {},
   "source": [
    "## List Slice"
   ]
  },
  {
   "cell_type": "code",
   "execution_count": 23,
   "id": "701a01f6",
   "metadata": {},
   "outputs": [
    {
     "data": {
      "text/plain": [
       "[2, 5, 5, 2, 99, 7]"
      ]
     },
     "execution_count": 23,
     "metadata": {},
     "output_type": "execute_result"
    }
   ],
   "source": [
    "numList"
   ]
  },
  {
   "cell_type": "code",
   "execution_count": 24,
   "id": "1ef88bc7",
   "metadata": {},
   "outputs": [
    {
     "data": {
      "text/plain": [
       "[5, 5, 2]"
      ]
     },
     "execution_count": 24,
     "metadata": {},
     "output_type": "execute_result"
    }
   ],
   "source": [
    "numList[1:4] # this does not include the endpoint"
   ]
  },
  {
   "cell_type": "code",
   "execution_count": 25,
   "id": "b1bb75ae",
   "metadata": {},
   "outputs": [
    {
     "data": {
      "text/plain": [
       "[2, 5, 5, 2]"
      ]
     },
     "execution_count": 25,
     "metadata": {},
     "output_type": "execute_result"
    }
   ],
   "source": [
    "numList[:4]"
   ]
  },
  {
   "cell_type": "code",
   "execution_count": 26,
   "id": "8fe39488",
   "metadata": {},
   "outputs": [
    {
     "data": {
      "text/plain": [
       "[5, 5, 2, 99, 7]"
      ]
     },
     "execution_count": 26,
     "metadata": {},
     "output_type": "execute_result"
    }
   ],
   "source": [
    "numList[1:]"
   ]
  },
  {
   "cell_type": "markdown",
   "id": "02dde650",
   "metadata": {},
   "source": [
    "## Adding to the list"
   ]
  },
  {
   "cell_type": "code",
   "execution_count": 27,
   "id": "993f4097",
   "metadata": {},
   "outputs": [],
   "source": [
    "numList.append(\"random number\")"
   ]
  },
  {
   "cell_type": "code",
   "execution_count": 28,
   "id": "bb43bc30",
   "metadata": {},
   "outputs": [
    {
     "data": {
      "text/plain": [
       "[2, 5, 5, 2, 99, 7, 'random number']"
      ]
     },
     "execution_count": 28,
     "metadata": {},
     "output_type": "execute_result"
    }
   ],
   "source": [
    "numList"
   ]
  },
  {
   "cell_type": "code",
   "execution_count": 29,
   "id": "f469fd54",
   "metadata": {},
   "outputs": [
    {
     "data": {
      "text/plain": [
       "'random number'"
      ]
     },
     "execution_count": 29,
     "metadata": {},
     "output_type": "execute_result"
    }
   ],
   "source": [
    "numList[-1]"
   ]
  },
  {
   "cell_type": "code",
   "execution_count": 30,
   "id": "eace79c4",
   "metadata": {},
   "outputs": [],
   "source": [
    "numList.append(numList)"
   ]
  },
  {
   "cell_type": "code",
   "execution_count": 31,
   "id": "6a446b78",
   "metadata": {},
   "outputs": [
    {
     "data": {
      "text/plain": [
       "[2, 5, 5, 2, 99, 7, 'random number', [...]]"
      ]
     },
     "execution_count": 31,
     "metadata": {},
     "output_type": "execute_result"
    }
   ],
   "source": [
    "numList[-1]"
   ]
  },
  {
   "cell_type": "code",
   "execution_count": 32,
   "id": "b70bd3d4",
   "metadata": {},
   "outputs": [],
   "source": [
    "numList.insert(1, 3)"
   ]
  },
  {
   "cell_type": "code",
   "execution_count": 33,
   "id": "15bc2ca3",
   "metadata": {},
   "outputs": [
    {
     "data": {
      "text/plain": [
       "[2, 3, 5, 5, 2, 99, 7, 'random number', [...]]"
      ]
     },
     "execution_count": 33,
     "metadata": {},
     "output_type": "execute_result"
    }
   ],
   "source": [
    "numList"
   ]
  },
  {
   "cell_type": "code",
   "execution_count": 34,
   "id": "d62fdaa0",
   "metadata": {},
   "outputs": [],
   "source": [
    "numList.extend(numList)"
   ]
  },
  {
   "cell_type": "code",
   "execution_count": 35,
   "id": "b8072e85",
   "metadata": {},
   "outputs": [
    {
     "data": {
      "text/plain": [
       "[2,\n",
       " 3,\n",
       " 5,\n",
       " 5,\n",
       " 2,\n",
       " 99,\n",
       " 7,\n",
       " 'random number',\n",
       " [...],\n",
       " 2,\n",
       " 3,\n",
       " 5,\n",
       " 5,\n",
       " 2,\n",
       " 99,\n",
       " 7,\n",
       " 'random number',\n",
       " [...]]"
      ]
     },
     "execution_count": 35,
     "metadata": {},
     "output_type": "execute_result"
    }
   ],
   "source": [
    "numList"
   ]
  },
  {
   "cell_type": "code",
   "execution_count": 38,
   "id": "4d7bd46c",
   "metadata": {},
   "outputs": [],
   "source": [
    "secondList = [2, 5, 9]\n",
    "stringList = [\"hi\", \"python\"]"
   ]
  },
  {
   "cell_type": "code",
   "execution_count": 39,
   "id": "c254a1f4",
   "metadata": {},
   "outputs": [],
   "source": [
    "secondList.append(stringList)"
   ]
  },
  {
   "cell_type": "code",
   "execution_count": 40,
   "id": "2522d913",
   "metadata": {},
   "outputs": [
    {
     "data": {
      "text/plain": [
       "[2, 5, 9, ['hi', 'python']]"
      ]
     },
     "execution_count": 40,
     "metadata": {},
     "output_type": "execute_result"
    }
   ],
   "source": [
    "secondList"
   ]
  },
  {
   "cell_type": "code",
   "execution_count": 41,
   "id": "99632dcf",
   "metadata": {},
   "outputs": [
    {
     "data": {
      "text/plain": [
       "['hi', 'python']"
      ]
     },
     "execution_count": 41,
     "metadata": {},
     "output_type": "execute_result"
    }
   ],
   "source": [
    "secondList[-1]"
   ]
  },
  {
   "cell_type": "code",
   "execution_count": 42,
   "id": "a35a5b0b",
   "metadata": {},
   "outputs": [],
   "source": [
    "secondList.extend(stringList)"
   ]
  },
  {
   "cell_type": "code",
   "execution_count": 43,
   "id": "b1d742c6",
   "metadata": {},
   "outputs": [
    {
     "data": {
      "text/plain": [
       "[2, 5, 9, ['hi', 'python'], 'hi', 'python']"
      ]
     },
     "execution_count": 43,
     "metadata": {},
     "output_type": "execute_result"
    }
   ],
   "source": [
    "secondList"
   ]
  },
  {
   "cell_type": "code",
   "execution_count": 44,
   "id": "b5dab0bb",
   "metadata": {},
   "outputs": [
    {
     "data": {
      "text/plain": [
       "'python'"
      ]
     },
     "execution_count": 44,
     "metadata": {},
     "output_type": "execute_result"
    }
   ],
   "source": [
    "secondList[-1]"
   ]
  },
  {
   "cell_type": "code",
   "execution_count": 46,
   "id": "52293fc7",
   "metadata": {},
   "outputs": [
    {
     "data": {
      "text/plain": [
       "'python'"
      ]
     },
     "execution_count": 46,
     "metadata": {},
     "output_type": "execute_result"
    }
   ],
   "source": [
    "secondList[-3][-1]"
   ]
  },
  {
   "cell_type": "code",
   "execution_count": 47,
   "id": "9114439a",
   "metadata": {},
   "outputs": [
    {
     "data": {
      "text/plain": [
       "'python'"
      ]
     },
     "execution_count": 47,
     "metadata": {},
     "output_type": "execute_result"
    }
   ],
   "source": [
    "secondList[3][1]"
   ]
  },
  {
   "cell_type": "markdown",
   "id": "38fa82d7",
   "metadata": {},
   "source": [
    "## Removing elements from a list"
   ]
  },
  {
   "cell_type": "code",
   "execution_count": 48,
   "id": "1387b1d5",
   "metadata": {},
   "outputs": [
    {
     "data": {
      "text/plain": [
       "[2, 5, 9, ['hi', 'python'], 'hi', 'python']"
      ]
     },
     "execution_count": 48,
     "metadata": {},
     "output_type": "execute_result"
    }
   ],
   "source": [
    "secondList"
   ]
  },
  {
   "cell_type": "code",
   "execution_count": 49,
   "id": "f89adc49",
   "metadata": {},
   "outputs": [],
   "source": [
    "secondList.remove(9) # removes the first occurence of the input"
   ]
  },
  {
   "cell_type": "code",
   "execution_count": 50,
   "id": "b8aa7dff",
   "metadata": {},
   "outputs": [
    {
     "data": {
      "text/plain": [
       "[2, 5, ['hi', 'python'], 'hi', 'python']"
      ]
     },
     "execution_count": 50,
     "metadata": {},
     "output_type": "execute_result"
    }
   ],
   "source": [
    "secondList"
   ]
  },
  {
   "cell_type": "code",
   "execution_count": 51,
   "id": "a04eb03e",
   "metadata": {},
   "outputs": [
    {
     "data": {
      "text/plain": [
       "2"
      ]
     },
     "execution_count": 51,
     "metadata": {},
     "output_type": "execute_result"
    }
   ],
   "source": [
    "secondList.pop(0) # removes and returns the element and the input index"
   ]
  },
  {
   "cell_type": "code",
   "execution_count": 52,
   "id": "b8556c65",
   "metadata": {},
   "outputs": [],
   "source": [
    "del stringList"
   ]
  },
  {
   "cell_type": "code",
   "execution_count": 54,
   "id": "416b3e73",
   "metadata": {},
   "outputs": [],
   "source": [
    "#stringList"
   ]
  },
  {
   "cell_type": "code",
   "execution_count": 55,
   "id": "778ce5b8",
   "metadata": {},
   "outputs": [
    {
     "data": {
      "text/plain": [
       "[5, ['hi', 'python'], 'hi', 'python']"
      ]
     },
     "execution_count": 55,
     "metadata": {},
     "output_type": "execute_result"
    }
   ],
   "source": [
    "secondList"
   ]
  },
  {
   "cell_type": "code",
   "execution_count": 56,
   "id": "7e1dcfe2",
   "metadata": {},
   "outputs": [],
   "source": [
    "del secondList[-1]"
   ]
  },
  {
   "cell_type": "code",
   "execution_count": 57,
   "id": "816c3922",
   "metadata": {},
   "outputs": [
    {
     "data": {
      "text/plain": [
       "[5, ['hi', 'python'], 'hi']"
      ]
     },
     "execution_count": 57,
     "metadata": {},
     "output_type": "execute_result"
    }
   ],
   "source": [
    "secondList"
   ]
  },
  {
   "cell_type": "code",
   "execution_count": 58,
   "id": "b176ac53",
   "metadata": {},
   "outputs": [],
   "source": [
    "del secondList[:-1]"
   ]
  },
  {
   "cell_type": "code",
   "execution_count": 59,
   "id": "bd62e01c",
   "metadata": {},
   "outputs": [
    {
     "data": {
      "text/plain": [
       "['hi']"
      ]
     },
     "execution_count": 59,
     "metadata": {},
     "output_type": "execute_result"
    }
   ],
   "source": [
    "secondList"
   ]
  },
  {
   "cell_type": "markdown",
   "id": "de99d91e",
   "metadata": {},
   "source": [
    "## Loops\n",
    "Ways for us to repeat our code\n",
    "\n",
    "- for\n",
    "    - Let's us repeat code a fixed amount of times\n",
    "    - Let's us repeat code directly on elements of lists\n",
    "- while\n",
    "    - Let's us repeat code an unknown number of times"
   ]
  },
  {
   "cell_type": "code",
   "execution_count": 60,
   "id": "831da600",
   "metadata": {},
   "outputs": [],
   "source": [
    "numList = [2, 4, 6, 8, 10]"
   ]
  },
  {
   "cell_type": "code",
   "execution_count": 61,
   "id": "3c47cbac",
   "metadata": {},
   "outputs": [
    {
     "data": {
      "text/plain": [
       "range(0, 10)"
      ]
     },
     "execution_count": 61,
     "metadata": {},
     "output_type": "execute_result"
    }
   ],
   "source": [
    "range(10)"
   ]
  },
  {
   "cell_type": "code",
   "execution_count": 62,
   "id": "e1ca1ed7",
   "metadata": {},
   "outputs": [
    {
     "name": "stdout",
     "output_type": "stream",
     "text": [
      "0\n",
      "1\n",
      "4\n",
      "9\n",
      "16\n",
      "25\n",
      "36\n",
      "49\n",
      "64\n",
      "81\n"
     ]
    }
   ],
   "source": [
    "for num in range(10):\n",
    "    print(num**2)"
   ]
  },
  {
   "cell_type": "code",
   "execution_count": 63,
   "id": "57abe117",
   "metadata": {},
   "outputs": [
    {
     "name": "stdout",
     "output_type": "stream",
     "text": [
      "100\n",
      "225\n",
      "400\n",
      "625\n"
     ]
    }
   ],
   "source": [
    "for num in range(10, 30, 5):\n",
    "    print(num**2)"
   ]
  },
  {
   "cell_type": "code",
   "execution_count": 64,
   "id": "1a268226",
   "metadata": {},
   "outputs": [
    {
     "data": {
      "text/plain": [
       "[2, 4, 6, 8, 10]"
      ]
     },
     "execution_count": 64,
     "metadata": {},
     "output_type": "execute_result"
    }
   ],
   "source": [
    "numList"
   ]
  },
  {
   "cell_type": "code",
   "execution_count": 65,
   "id": "d41ff783",
   "metadata": {},
   "outputs": [
    {
     "data": {
      "text/plain": [
       "5"
      ]
     },
     "execution_count": 65,
     "metadata": {},
     "output_type": "execute_result"
    }
   ],
   "source": [
    "len(numList)"
   ]
  },
  {
   "cell_type": "code",
   "execution_count": 67,
   "id": "0c01c250",
   "metadata": {},
   "outputs": [
    {
     "name": "stdout",
     "output_type": "stream",
     "text": [
      "4\n",
      "16\n",
      "36\n",
      "64\n",
      "100\n"
     ]
    }
   ],
   "source": [
    "for asdf in range(len(numList)):\n",
    "    print(numList[asdf]**2)"
   ]
  },
  {
   "cell_type": "code",
   "execution_count": 69,
   "id": "fce34586",
   "metadata": {},
   "outputs": [
    {
     "name": "stdout",
     "output_type": "stream",
     "text": [
      "4\n",
      "Python is fun\n",
      "16\n",
      "Python is fun\n",
      "36\n",
      "Python is fun\n",
      "64\n",
      "Python is fun\n",
      "100\n",
      "Python is fun\n"
     ]
    }
   ],
   "source": [
    "for num in numList:\n",
    "    print(num**2)\n",
    "    print(\"Python is fun\")"
   ]
  },
  {
   "cell_type": "code",
   "execution_count": 70,
   "id": "15574052",
   "metadata": {},
   "outputs": [
    {
     "name": "stderr",
     "output_type": "stream",
     "text": [
      "IOPub data rate exceeded.\n",
      "The notebook server will temporarily stop sending output\n",
      "to the client in order to avoid crashing it.\n",
      "To change this limit, set the config variable\n",
      "`--NotebookApp.iopub_data_rate_limit`.\n",
      "\n",
      "Current values:\n",
      "NotebookApp.iopub_data_rate_limit=1000000.0 (bytes/sec)\n",
      "NotebookApp.rate_limit_window=3.0 (secs)\n",
      "\n"
     ]
    },
    {
     "ename": "KeyboardInterrupt",
     "evalue": "",
     "output_type": "error",
     "traceback": [
      "\u001b[1;31m---------------------------------------------------------------------------\u001b[0m",
      "\u001b[1;31mKeyboardInterrupt\u001b[0m                         Traceback (most recent call last)",
      "Cell \u001b[1;32mIn[70], line 2\u001b[0m\n\u001b[0;32m      1\u001b[0m \u001b[38;5;28;01mwhile\u001b[39;00m \u001b[38;5;28;01mTrue\u001b[39;00m:\n\u001b[1;32m----> 2\u001b[0m     \u001b[38;5;28mprint\u001b[39m(\u001b[38;5;124m\"\u001b[39m\u001b[38;5;124mDon\u001b[39m\u001b[38;5;124m'\u001b[39m\u001b[38;5;124mt do this at home\u001b[39m\u001b[38;5;124m\"\u001b[39m)\n",
      "File \u001b[1;32m~\\anaconda3\\Lib\\site-packages\\ipykernel\\iostream.py:635\u001b[0m, in \u001b[0;36mOutStream.write\u001b[1;34m(self, string)\u001b[0m\n\u001b[0;32m    633\u001b[0m     \u001b[38;5;28;01mraise\u001b[39;00m \u001b[38;5;167;01mValueError\u001b[39;00m(msg)\n\u001b[0;32m    634\u001b[0m \u001b[38;5;28;01melse\u001b[39;00m:\n\u001b[1;32m--> 635\u001b[0m     is_child \u001b[38;5;241m=\u001b[39m \u001b[38;5;129;01mnot\u001b[39;00m \u001b[38;5;28mself\u001b[39m\u001b[38;5;241m.\u001b[39m_is_master_process()\n\u001b[0;32m    636\u001b[0m     \u001b[38;5;66;03m# only touch the buffer in the IO thread to avoid races\u001b[39;00m\n\u001b[0;32m    637\u001b[0m     \u001b[38;5;28;01mwith\u001b[39;00m \u001b[38;5;28mself\u001b[39m\u001b[38;5;241m.\u001b[39m_buffer_lock:\n",
      "File \u001b[1;32m~\\anaconda3\\Lib\\site-packages\\ipykernel\\iostream.py:505\u001b[0m, in \u001b[0;36mOutStream._is_master_process\u001b[1;34m(self)\u001b[0m\n\u001b[0;32m    502\u001b[0m     \u001b[38;5;28mself\u001b[39m\u001b[38;5;241m.\u001b[39mwatch_fd_thread\u001b[38;5;241m.\u001b[39mdaemon \u001b[38;5;241m=\u001b[39m \u001b[38;5;28;01mTrue\u001b[39;00m\n\u001b[0;32m    503\u001b[0m     \u001b[38;5;28mself\u001b[39m\u001b[38;5;241m.\u001b[39mwatch_fd_thread\u001b[38;5;241m.\u001b[39mstart()\n\u001b[1;32m--> 505\u001b[0m \u001b[38;5;28;01mdef\u001b[39;00m \u001b[38;5;21m_is_master_process\u001b[39m(\u001b[38;5;28mself\u001b[39m):\n\u001b[0;32m    506\u001b[0m     \u001b[38;5;28;01mreturn\u001b[39;00m os\u001b[38;5;241m.\u001b[39mgetpid() \u001b[38;5;241m==\u001b[39m \u001b[38;5;28mself\u001b[39m\u001b[38;5;241m.\u001b[39m_master_pid\n\u001b[0;32m    508\u001b[0m \u001b[38;5;28;01mdef\u001b[39;00m \u001b[38;5;21mset_parent\u001b[39m(\u001b[38;5;28mself\u001b[39m, parent):\n",
      "\u001b[1;31mKeyboardInterrupt\u001b[0m: "
     ]
    }
   ],
   "source": [
    "while True:\n",
    "    print(\"Don't do this at home\")"
   ]
  },
  {
   "cell_type": "code",
   "execution_count": 71,
   "id": "0e4ef68f",
   "metadata": {},
   "outputs": [],
   "source": [
    "numList = [2, 5, 7, 2, 5, 9, 0, 2, 4, 7, 1, 0, 100]"
   ]
  },
  {
   "cell_type": "code",
   "execution_count": 72,
   "id": "4933a8e0",
   "metadata": {},
   "outputs": [
    {
     "name": "stdout",
     "output_type": "stream",
     "text": [
      "[5, 7, 2, 5, 9, 0, 2, 4, 7, 1, 0, 100]\n",
      "[5, 7, 5, 9, 0, 2, 4, 7, 1, 0, 100]\n",
      "[5, 7, 5, 9, 0, 4, 7, 1, 0, 100]\n"
     ]
    }
   ],
   "source": [
    "while 2 in numList:\n",
    "    numList.remove(2)\n",
    "    print(numList)"
   ]
  },
  {
   "cell_type": "code",
   "execution_count": 73,
   "id": "67153c13",
   "metadata": {},
   "outputs": [],
   "source": [
    "while 99 in numList:\n",
    "    numList.remove(99)\n",
    "    print(numList)"
   ]
  },
  {
   "cell_type": "code",
   "execution_count": 74,
   "id": "812b18b8",
   "metadata": {},
   "outputs": [
    {
     "name": "stdout",
     "output_type": "stream",
     "text": [
      "0 5\n",
      "1 7\n",
      "2 5\n",
      "3 9\n",
      "4 0\n",
      "5 4\n",
      "6 7\n",
      "7 1\n",
      "8 0\n",
      "9 100\n"
     ]
    }
   ],
   "source": [
    "for index, element in enumerate(numList):\n",
    "    print(index, element)"
   ]
  },
  {
   "cell_type": "markdown",
   "id": "32ae1ce1",
   "metadata": {},
   "source": [
    "## Homework\n",
    "- Ch.5 Exercises\n",
    "- Ch. 9 Exercise 6"
   ]
  },
  {
   "cell_type": "code",
   "execution_count": null,
   "id": "a49acc6b",
   "metadata": {},
   "outputs": [],
   "source": []
  }
 ],
 "metadata": {
  "kernelspec": {
   "display_name": "Python 3 (ipykernel)",
   "language": "python",
   "name": "python3"
  },
  "language_info": {
   "codemirror_mode": {
    "name": "ipython",
    "version": 3
   },
   "file_extension": ".py",
   "mimetype": "text/x-python",
   "name": "python",
   "nbconvert_exporter": "python",
   "pygments_lexer": "ipython3",
   "version": "3.11.5"
  }
 },
 "nbformat": 4,
 "nbformat_minor": 5
}
